{
 "cells": [
  {
   "cell_type": "markdown",
   "metadata": {},
   "source": [
    "# Introduction\n",
    "A very important aspect of supervised and semi-supervised machine learning is the quality of the labels produced by human labelers. Unfortunately, humans are not perfect and in some cases may even maliciously label things incorrectly. In this assignment, you will evaluate the impact of incorrect labels on a number of different classifiers.\n",
    "\n",
    "We have provided a number of code snippets you can use during this assignment. Feel free to modify them or replace them.\n",
    "\n",
    "\n",
    "## Dataset\n",
    "The dataset you will be using is the [Adult Income dataset](https://archive.ics.uci.edu/ml/datasets/Adult). This dataset was created by Ronny Kohavi and Barry Becker and was used to predict whether a person's income is more/less than 50k USD based on census data."
   ]
  },
  {
   "cell_type": "markdown",
   "metadata": {},
   "source": [
    "### Data preprocessing\n",
    "Start by loading and preprocessing the data. Remove NaN values, convert strings to categorical variables and encode the target variable (the string <=50K, >50K in column index 14)."
   ]
  },
  {
   "cell_type": "code",
   "execution_count": 22,
   "metadata": {},
   "outputs": [],
   "source": [
    "import random\n",
    "import pandas as pd\n",
    "import numpy as np\n",
    "\n",
    "from sklearn.compose import ColumnTransformer\n",
    "from sklearn.pipeline import Pipeline\n",
    "\n",
    "from sklearn.preprocessing import StandardScaler\n",
    "from sklearn.preprocessing import OneHotEncoder\n",
    "from sklearn.preprocessing import OrdinalEncoder\n",
    "from sklearn.preprocessing import FunctionTransformer\n",
    "from sklearn.preprocessing import LabelEncoder\n",
    "from sklearn.preprocessing import minmax_scale\n",
    "\n",
    "from sklearn.model_selection import train_test_split\n",
    "from scipy.stats import chi2_contingency\n",
    "\n",
    "from sklearn.svm import SVC\n",
    "from sklearn.neighbors import KNeighborsClassifier\n",
    "from sklearn.tree import DecisionTreeClassifier\n",
    "from sklearn.discriminant_analysis import QuadraticDiscriminantAnalysis\n",
    "\n",
    "from sklearn.metrics import confusion_matrix, accuracy_score\n",
    "\n",
    "import seaborn as sns\n",
    "import matplotlib.pyplot as plt"
   ]
  },
  {
   "cell_type": "code",
   "execution_count": 2,
   "metadata": {},
   "outputs": [],
   "source": [
    "\n",
    "INFO = False\n"
   ]
  },
  {
   "cell_type": "code",
   "execution_count": 3,
   "metadata": {},
   "outputs": [],
   "source": [
    "\n",
    "class DataSet():\n",
    "\tdef __init__(self, x, y):\n",
    "\t\tself.X = x\n",
    "\t\tself.y = y\n"
   ]
  },
  {
   "cell_type": "code",
   "execution_count": 4,
   "metadata": {},
   "outputs": [],
   "source": [
    "\n",
    "# This can be used to load the dataset\n",
    "def load_clean_data():\n",
    "    data = pd.read_csv(\"./adult.csv\", header=0, na_values='?')\n",
    "\n",
    "    if INFO:\n",
    "        print( data.shape )\n",
    "        print( data.columns )\n",
    "\n",
    "    # Check for overly empty feature columns\n",
    "    for column in data.columns:\n",
    "        nans = data[column].isna()\n",
    "        if nans.sum() >= 0.6*data.shape[0]:\n",
    "            print( f\"Dropping {column}\" )\n",
    "            data.drop( column )\n",
    "\n",
    "    # Drop any rows with NaN\n",
    "    # Try imputation\n",
    "    data.dropna( inplace=True )\n",
    "    \n",
    "\n",
    "    # Capital loss and capital gain represent essentially the exact same information\n",
    "    # Capital delta can represent both at the same time without increasing dimensionality\n",
    "    data['capital-delta'] = data['capital-gain'] - data['capital-loss']\n",
    "\n",
    "    \n",
    "    # Education is the same as education-num if it were ordinally encoded.\n",
    "    # Capital loss/gain already encoded with capital delta\n",
    "    data.drop( columns=[ 'education', 'capital-gain', 'capital-loss' ], inplace=True )\n",
    "    \n",
    "    if INFO:\n",
    "        print( data.shape )\n",
    "\n",
    "    return data\n"
   ]
  },
  {
   "cell_type": "markdown",
   "metadata": {},
   "source": [
    "### Data classification\n",
    "Choose at least 4 different classifiers and evaluate their performance in predicting the target variable. \n",
    "\n",
    "#### Preprocessing\n",
    "Think about how you are going to encode the categorical variables, normalization, whether you want to use all of the features, feature dimensionality reduction, etc. Justify your choices \n",
    "\n",
    "A good method to apply preprocessing steps is using a Pipeline. Read more about this [here](https://machinelearningmastery.com/columntransformer-for-numerical-and-categorical-data/) and [here](https://medium.com/vickdata/a-simple-guide-to-scikit-learn-pipelines-4ac0d974bdcf). \n",
    "\n",
    "<!-- #### Data visualization\n",
    "Calculate the correlation between different features, including the target variable. Visualize the correlations in a heatmap. A good example of how to do this can be found [here](https://towardsdatascience.com/better-heatmaps-and-correlation-matrix-plots-in-python-41445d0f2bec). \n",
    "\n",
    "Select a features you think will be an important predictor of the target variable and one which is not important. Explain your answers. -->\n",
    "\n",
    "#### Evaluation\n",
    "Use a validation technique from the previous lecture to evaluate the performance of the model. Explain and justify which metrics you used to compare the different models. "
   ]
  },
  {
   "cell_type": "code",
   "execution_count": 5,
   "metadata": {},
   "outputs": [],
   "source": [
    "def identify_outliers( x, columns ):\n",
    "    for column in columns:\n",
    "        x_min, x_max = x[column].min(), x[column].max()\n",
    "        mean, std = x[column].mean(), x[column].std()\n",
    "        \n",
    "        #print( f\"Min: {x_min}\\tMax: {x_max}\" )\n",
    "        #print( f\"Mean: {mean}\\tSTD: {std}\" )\n",
    "        \n",
    "        lows = x[column] <= mean - 1.96*std\n",
    "        highs = x[column] >= mean + 1.96*std\n",
    "        lows, highs = x[lows], x[highs]\n",
    "        \n",
    "        print( f\"{column.capitalize()}:\\tLow:\\t{lows.shape[0]}\\t|\\tHigh:\\t{highs.shape[0]}\" )"
   ]
  },
  {
   "cell_type": "code",
   "execution_count": 42,
   "metadata": {
    "editable": true,
    "slideshow": {
     "slide_type": ""
    },
    "tags": []
   },
   "outputs": [],
   "source": [
    "\n",
    "def preprocess_data( data ):\n",
    "    numerical = [ 'age', 'fnlwgt', 'education-num', 'hours-per-week', 'capital-delta' ]\n",
    "    categorical = [ 'workclass', 'marital-status', 'occupation', 'relationship', 'race', 'native-country' ]\n",
    "    binary = [ 'sex' ]\n",
    "    label = [ 'salary' ]\n",
    "\n",
    "    le = LabelEncoder()\n",
    "    y = data['salary']\n",
    "    y = le.fit_transform( y )\n",
    "    \n",
    "    X = data.drop( columns=label )\n",
    "\n",
    "    visualize( X )\n",
    "    \n",
    "    identify_outliers( X, numerical )\n",
    "\n",
    "    binary_pipeline = Pipeline(\n",
    "        [\n",
    "            ( 'encode', OrdinalEncoder() ),\n",
    "            ( 'transform', FunctionTransformer( lambda x: 2*x-1 ) )\n",
    "        ]\n",
    "    )\n",
    "    transformers = [\n",
    "        ( 'scaler', StandardScaler(), numerical ),\n",
    "        ( 'onehot', OneHotEncoder(sparse_output=False), categorical ),\n",
    "        ( 'binary', binary_pipeline, binary )\n",
    "    ]\n",
    "\n",
    "    ct = ColumnTransformer( transformers=transformers, remainder='passthrough' )\n",
    "    X = ct.fit_transform( X )\n",
    "    \n",
    "    train_X, test_X, train_y, test_y = train_test_split( X, y, test_size=0.33 )\n",
    "    \n",
    "    # Remove PCA\n",
    "    #pca = PCA( n_components=0.95, svd_solver='full' )\n",
    "    #train_X = pca.fit_transform( train_X )\n",
    "    #test_X = pca.transform( test_X )\n",
    "    \n",
    "    train = DataSet( train_X, train_y )\n",
    "    test = DataSet( test_X, test_y )\n",
    "    return train, test\n"
   ]
  },
  {
   "cell_type": "code",
   "execution_count": 57,
   "metadata": {},
   "outputs": [],
   "source": [
    "\n",
    "def cramers_V( X, cols ):\n",
    "    cramer_matrix = pd.DataFrame( index=cols, columns=cols, dtype=float )\n",
    "    \n",
    "    for col1 in cols:\n",
    "        for col2 in cols:\n",
    "            conf_mat = pd.crosstab( X[col1], X[col2] )\n",
    "            chi_sq = chi2_contingency( conf_mat )[0]\n",
    "            n = conf_mat.sum().sum()\n",
    "            V = chi_sq/(n*(min(conf_mat.shape)-1))\n",
    "            cramer_matrix.loc[col1,col2] = float( np.sqrt( V ) )\n",
    "\n",
    "    if INFO:\n",
    "        print( cramer_matrix )\n",
    "    return cramer_matrix\n"
   ]
  },
  {
   "cell_type": "code",
   "execution_count": 49,
   "metadata": {},
   "outputs": [],
   "source": [
    "\n",
    "# Cramer's V\n",
    "def visualize( X ):\n",
    "    categorical = [ 'workclass', 'marital-status', 'occupation', 'relationship', 'race', 'native-country' ]\n",
    "    cramers_matrix = cramers_V(X, categorical)\n",
    "\n",
    "    plt.figure()\n",
    "    sns.heatmap( cramers_matrix, annot=True, cmap='coolwarm', vmin=0, vmax=1 )\n",
    "    plt.title( \"Cramer\\'s V Correlation Matrix\" )\n",
    "    plt.show()\n"
   ]
  },
  {
   "cell_type": "code",
   "execution_count": 27,
   "metadata": {},
   "outputs": [],
   "source": [
    "\n",
    "def print_model_eval( conf_mat, print_label ):\n",
    "    correct_pred = conf_mat[0,0] + conf_mat[1,1]\n",
    "    false_pred = conf_mat[0,1] + conf_mat[1,0]\n",
    "    accuracy = correct_pred/(correct_pred+false_pred)\n",
    "    print( f\"{print_label}:\" )\n",
    "    print( f\"Acurracy: { 100*accuracy }%\" )\n",
    "    print( f\"{conf_mat}\\n\" )\n"
   ]
  },
  {
   "cell_type": "code",
   "execution_count": 28,
   "metadata": {},
   "outputs": [],
   "source": [
    "\n",
    "def train_model( model, train ):\n",
    "    model.fit( train.X, train.y )\n",
    "    y_pred = model.predict( train.X )\n",
    "\n",
    "    conf_mat = confusion_matrix( train.y, y_pred )\n",
    "    print_model_eval( conf_mat, 'Train' )\n",
    "    return model, conf_mat\n"
   ]
  },
  {
   "cell_type": "code",
   "execution_count": 29,
   "metadata": {},
   "outputs": [],
   "source": [
    "\n",
    "def evaluate_model( model, test ):\n",
    "    y_pred = model.predict( test.X )\n",
    "\n",
    "    conf_mat = confusion_matrix( test.y, y_pred )\n",
    "\n",
    "    print_model_eval( conf_mat, 'Test' )\n",
    "    return conf_mat\n"
   ]
  },
  {
   "cell_type": "code",
   "execution_count": 30,
   "metadata": {},
   "outputs": [],
   "source": [
    "\n",
    "def train_eval( train, test, classifiers ):\n",
    "\tfor classifier in classifiers:\n",
    "\t\tprint( f\"Training: {classifier}\" )\n",
    "\t\tclassifier = classifiers[classifier]\n",
    "\t\tclassifier['model'], classifier['train_conf'] = train_model( classifier['model'], train )\n",
    "\t\tclassifier['test_conf'] = evaluate_model( classifier['model'], test )\n",
    "\t\tprint( \"\\n\" )\n"
   ]
  },
  {
   "cell_type": "code",
   "execution_count": 58,
   "metadata": {},
   "outputs": [
    {
     "data": {
      "image/png": "[encoded data removed]",
      "text/plain": [
       "<Figure size 640x480 with 2 Axes>"
      ]
     },
     "metadata": {},
     "output_type": "display_data"
    },
    {
     "name": "stdout",
     "output_type": "stream",
     "text": [
      "Age:\tLow:\t0\t|\tHigh:\t1561\n",
      "Fnlwgt:\tLow:\t0\t|\tHigh:\t1826\n",
      "Education-num:\tLow:\t2242\t|\tHigh:\t544\n",
      "Hours-per-week:\tLow:\t1869\t|\tHigh:\t1527\n",
      "Capital-delta:\tLow:\t0\t|\tHigh:\t365\n",
      "Training on NORMAL dataset\n",
      "--------------------------------------\n",
      "Training: SVC\n",
      "Train:\n",
      "Acurracy: 84.92969832992276%\n",
      "[[21327  1436]\n",
      " [ 3130  4405]]\n",
      "\n",
      "Test:\n",
      "Acurracy: 84.2736531760922%\n",
      "[[10504   747]\n",
      " [ 1600  2073]]\n",
      "\n",
      "\n",
      "\n",
      "Training: K-NN\n",
      "Train:\n",
      "Acurracy: 86.22351310317514%\n",
      "[[21549  1214]\n",
      " [ 2960  4575]]\n",
      "\n",
      "Test:\n",
      "Acurracy: 83.37577057089253%\n",
      "[[10439   812]\n",
      " [ 1669  2004]]\n",
      "\n",
      "\n",
      "\n",
      "Training: Decision Tree\n",
      "Train:\n",
      "Acurracy: 99.99669945210906%\n",
      "[[22763     0]\n",
      " [    1  7534]]\n",
      "\n",
      "Test:\n",
      "Acurracy: 80.97024926293219%\n",
      "[[9728 1523]\n",
      " [1317 2356]]\n",
      "\n",
      "\n",
      "\n",
      "Training: QDA\n"
     ]
    },
    {
     "name": "stderr",
     "output_type": "stream",
     "text": [
      "/usr/lib/python3.13/site-packages/sklearn/discriminant_analysis.py:1024: LinAlgWarning: The covariance matrix of class 0 is not full rank. Increasing the value of parameter `reg_param` might help reducing the collinearity.\n",
      "  warnings.warn(\n",
      "/usr/lib/python3.13/site-packages/sklearn/discriminant_analysis.py:1024: LinAlgWarning: The covariance matrix of class 1 is not full rank. Increasing the value of parameter `reg_param` might help reducing the collinearity.\n",
      "  warnings.warn(\n"
     ]
    },
    {
     "name": "stdout",
     "output_type": "stream",
     "text": [
      "Train:\n",
      "Acurracy: 51.3235197042709%\n",
      "[[ 8312 14451]\n",
      " [  297  7238]]\n",
      "\n",
      "Test:\n",
      "Acurracy: 50.93808630393997%\n",
      "[[4085 7166]\n",
      " [ 156 3517]]\n",
      "\n",
      "\n",
      "\n"
     ]
    }
   ],
   "source": [
    "data = load_clean_data()\n",
    "\n",
    "train, test = preprocess_data( data )\n",
    "if INFO:\n",
    "    print( train.X.shape, test.X.shape )\n",
    "\n",
    "classifiers = {\n",
    "    'SVC': { 'model': SVC(gamma='auto'), 'train_conf': None, 'test_conf': None },\n",
    "    'K-NN': { 'model': KNeighborsClassifier(n_neighbors=10), 'train_conf': None, 'test_conf': None },\n",
    "    'Decision Tree': { 'model': DecisionTreeClassifier(), 'train_conf': None, 'test_conf': None },\n",
    "    'QDA': { 'model': QuadraticDiscriminantAnalysis(), 'train_conf': None, 'test_conf': None }\n",
    "}\n",
    "\n",
    "print( f\"Training on NORMAL dataset\" )\n",
    "print( f\"--------------------------------------\" )\n",
    "train_eval( train, test, classifiers )\n",
    "#visualize( train, classifiers['svc']['model'] )"
   ]
  },
  {
   "cell_type": "markdown",
   "metadata": {},
   "source": [
    "### Label perturbation\n",
    "To evaluate the impact of faulty labels in a dataset, we will introduce some errors in the labels of our data.\n",
    "\n",
    "\n",
    "#### Preparation\n",
    "Start by creating a method which alters a dataset by selecting a percentage of rows randomly and swaps labels from a 0->1 and 1->0. \n"
   ]
  },
  {
   "cell_type": "code",
   "execution_count": 129,
   "metadata": {},
   "outputs": [],
   "source": [
    "\n",
    "\"\"\"Given a label vector, create a new copy where a random fraction of the labels have been flipped.\"\"\"\n",
    "def add_errors( y, fraction=0.5 ):\n",
    "\t# Flip fraction*len(data) of the labels in copy\n",
    "\tidx = np.arange( y.shape[0] )\n",
    "\tnp.random.shuffle(idx)\n",
    "\n",
    "\tmx_idx = round(fraction*y.shape[0])\n",
    "\tif INFO:\n",
    "\t\tprint( mx_idx )\n",
    "\tidx = idx[:mx_idx]\n",
    "\ty[idx] = y[idx] ^ 1\n",
    "\n",
    "\treturn y\n"
   ]
  },
  {
   "cell_type": "code",
   "execution_count": 130,
   "metadata": {},
   "outputs": [],
   "source": [
    "\n",
    "## This suggestion seems nonsensical\n",
    "def perturb( y, mn=10, mx=100 ):\n",
    "\tmn = random.randrange(mn)\n",
    "\tmx = random.randrange(mx)\n",
    "\tif mn > mx:\n",
    "\t\ttmp = mx\n",
    "\t\tmx = mn\n",
    "\t\tmn = tmp\n",
    "\telif mn == mx:\n",
    "\t\tmx += 1\n",
    "\n",
    "\tprint( f\"New range {mn} - {mx}\" )\n",
    "\ty = minmax_scale( y, feature_range=( mn, mx ) )\n",
    "\treturn y\n"
   ]
  },
  {
   "cell_type": "code",
   "execution_count": 131,
   "metadata": {},
   "outputs": [
    {
     "name": "stdout",
     "output_type": "stream",
     "text": [
      "\n",
      "\n",
      "Training on FLIPPED datasets\n",
      "--------------------------------------\n",
      "Fraction: 0.1\n",
      "Training: SVC\n",
      "Train:\n",
      "Acurracy: 77.83021981648953%\n",
      "[[19755  1530]\n",
      " [ 5187  3826]]\n",
      "\n",
      "Test:\n",
      "Acurracy: 84.34735995711605%\n",
      "[[10536   629]\n",
      " [ 1707  2052]]\n",
      "\n",
      "\n",
      "\n",
      "Training: K-NN\n",
      "Train:\n",
      "Acurracy: 79.37157568156314%\n",
      "[[19888  1397]\n",
      " [ 4853  4160]]\n",
      "\n",
      "Test:\n",
      "Acurracy: 82.83302063789868%\n",
      "[[10346   819]\n",
      " [ 1743  2016]]\n",
      "\n",
      "\n",
      "\n",
      "Training: Decision Tree\n",
      "Train:\n",
      "Acurracy: 99.9867978084362%\n",
      "[[21285     0]\n",
      " [    4  9009]]\n",
      "\n",
      "Test:\n",
      "Acurracy: 72.0383275261324%\n",
      "[[8607 2558]\n",
      " [1615 2144]]\n",
      "\n",
      "\n",
      "\n",
      "Training: QDA\n",
      "Train:\n",
      "Acurracy: 74.43065548881114%\n",
      "[[16991  4294]\n",
      " [ 3453  5560]]\n",
      "\n",
      "Test:\n",
      "Acurracy: 80.1125703564728%\n",
      "[[9107 2058]\n",
      " [ 910 2849]]\n",
      "\n",
      "\n",
      "\n",
      "Fraction: 0.3\n",
      "Training: SVC\n",
      "Train:\n",
      "Acurracy: 61.45620172948709%\n",
      "[[15673  1997]\n",
      " [ 9681  2947]]\n",
      "\n",
      "Test:\n",
      "Acurracy: 83.06084159742696%\n",
      "[[10537   628]\n",
      " [ 1900  1859]]\n",
      "\n",
      "\n",
      "\n",
      "Training: K-NN\n",
      "Train:\n",
      "Acurracy: 65.72711070037627%\n",
      "[[15398  2272]\n",
      " [ 8112  4516]]\n",
      "\n",
      "Test:\n",
      "Acurracy: 74.98659876708658%\n",
      "[[9501 1664]\n",
      " [2069 1690]]\n",
      "\n",
      "\n",
      "\n",
      "Training: Decision Tree\n",
      "Train:\n",
      "Acurracy: 99.96039342530861%\n",
      "[[17670     0]\n",
      " [   12 12616]]\n",
      "\n",
      "Test:\n",
      "Acurracy: 57.705708925221124%\n",
      "[[6714 4451]\n",
      " [1861 1898]]\n",
      "\n",
      "\n",
      "\n",
      "Training: QDA\n",
      "Train:\n",
      "Acurracy: 60.733381741369065%\n",
      "[[14192  3478]\n",
      " [ 8419  4209]]\n",
      "\n",
      "Test:\n",
      "Acurracy: 81.47279549718574%\n",
      "[[9745 1420]\n",
      " [1345 2414]]\n",
      "\n",
      "\n",
      "\n",
      "Fraction: 0.5\n",
      "Training: SVC\n",
      "Train:\n",
      "Acurracy: 53.00679912865536%\n",
      "[[8797 6352]\n",
      " [7886 7263]]\n",
      "\n",
      "Test:\n",
      "Acurracy: 48.813990887161616%\n",
      "[[5881 5284]\n",
      " [2355 1404]]\n",
      "\n",
      "\n",
      "\n",
      "Training: K-NN\n",
      "Train:\n",
      "Acurracy: 62.278038154333615%\n",
      "[[11262  3887]\n",
      " [ 7542  7607]]\n",
      "\n",
      "Test:\n",
      "Acurracy: 56.15116590726347%\n",
      "[[6966 4199]\n",
      " [2345 1414]]\n",
      "\n",
      "\n",
      "\n",
      "Training: Decision Tree\n",
      "Train:\n",
      "Acurracy: 99.96039342530861%\n",
      "[[15148     1]\n",
      " [   11 15138]]\n",
      "\n",
      "Test:\n",
      "Acurracy: 49.524256231573304%\n",
      "[[5547 5618]\n",
      " [1915 1844]]\n",
      "\n",
      "\n",
      "\n",
      "Training: QDA\n",
      "Train:\n",
      "Acurracy: 52.06944352762558%\n",
      "[[6138 9011]\n",
      " [5511 9638]]\n",
      "\n",
      "Test:\n",
      "Acurracy: 38.722862503350306%\n",
      "[[3855 7310]\n",
      " [1835 1924]]\n",
      "\n",
      "\n",
      "\n",
      "\n",
      "\n",
      "Training on PERTURBED datasets\n",
      "--------------------------------------\n",
      "New range 5 - 44\n",
      "Training: SVC\n",
      "Train:\n",
      "Acurracy: 53.00679912865536%\n",
      "[[8797 6352]\n",
      " [7886 7263]]\n",
      "\n"
     ]
    },
    {
     "name": "stderr",
     "output_type": "stream",
     "text": [
      "/tmp/ipykernel_4418/3634688526.py:4: RuntimeWarning: invalid value encountered in scalar divide\n",
      "  accuracy = correct_pred/(correct_pred+false_pred)\n"
     ]
    },
    {
     "name": "stdout",
     "output_type": "stream",
     "text": [
      "Test:\n",
      "Acurracy: nan%\n",
      "[[   0    0 5881 5284]\n",
      " [   0    0 2355 1404]\n",
      " [   0    0    0    0]\n",
      " [   0    0    0    0]]\n",
      "\n",
      "\n",
      "\n",
      "Training: K-NN\n",
      "Train:\n",
      "Acurracy: 62.278038154333615%\n",
      "[[11262  3887]\n",
      " [ 7542  7607]]\n",
      "\n"
     ]
    },
    {
     "name": "stderr",
     "output_type": "stream",
     "text": [
      "/tmp/ipykernel_4418/3634688526.py:4: RuntimeWarning: invalid value encountered in scalar divide\n",
      "  accuracy = correct_pred/(correct_pred+false_pred)\n"
     ]
    },
    {
     "name": "stdout",
     "output_type": "stream",
     "text": [
      "Test:\n",
      "Acurracy: nan%\n",
      "[[   0    0 6966 4199]\n",
      " [   0    0 2345 1414]\n",
      " [   0    0    0    0]\n",
      " [   0    0    0    0]]\n",
      "\n",
      "\n",
      "\n",
      "Training: Decision Tree\n",
      "Train:\n",
      "Acurracy: 99.96039342530861%\n",
      "[[15148     1]\n",
      " [   11 15138]]\n",
      "\n",
      "Test:\n",
      "Acurracy: nan%\n",
      "[[   0    0 5580 5585]\n",
      " [   0    0 1897 1862]\n",
      " [   0    0    0    0]\n",
      " [   0    0    0    0]]\n",
      "\n",
      "\n",
      "\n",
      "Training: QDA\n",
      "Train:\n",
      "Acurracy: 52.06944352762558%\n",
      "[[6138 9011]\n",
      " [5511 9638]]\n",
      "\n",
      "Test:\n",
      "Acurracy: nan%\n",
      "[[   0    0 3855 7310]\n",
      " [   0    0 1835 1924]\n",
      " [   0    0    0    0]\n",
      " [   0    0    0    0]]\n",
      "\n",
      "\n",
      "\n",
      "New range 5 - 98\n",
      "Training: SVC\n"
     ]
    },
    {
     "name": "stderr",
     "output_type": "stream",
     "text": [
      "/tmp/ipykernel_4418/3634688526.py:4: RuntimeWarning: invalid value encountered in scalar divide\n",
      "  accuracy = correct_pred/(correct_pred+false_pred)\n",
      "/tmp/ipykernel_4418/3634688526.py:4: RuntimeWarning: invalid value encountered in scalar divide\n",
      "  accuracy = correct_pred/(correct_pred+false_pred)\n"
     ]
    },
    {
     "name": "stdout",
     "output_type": "stream",
     "text": [
      "Train:\n",
      "Acurracy: 53.00679912865536%\n",
      "[[8797 6352]\n",
      " [7886 7263]]\n",
      "\n"
     ]
    },
    {
     "name": "stderr",
     "output_type": "stream",
     "text": [
      "/tmp/ipykernel_4418/3634688526.py:4: RuntimeWarning: invalid value encountered in scalar divide\n",
      "  accuracy = correct_pred/(correct_pred+false_pred)\n"
     ]
    },
    {
     "name": "stdout",
     "output_type": "stream",
     "text": [
      "Test:\n",
      "Acurracy: nan%\n",
      "[[   0    0 5881 5284]\n",
      " [   0    0 2355 1404]\n",
      " [   0    0    0    0]\n",
      " [   0    0    0    0]]\n",
      "\n",
      "\n",
      "\n",
      "Training: K-NN\n",
      "Train:\n",
      "Acurracy: 62.278038154333615%\n",
      "[[11262  3887]\n",
      " [ 7542  7607]]\n",
      "\n"
     ]
    },
    {
     "name": "stderr",
     "output_type": "stream",
     "text": [
      "/tmp/ipykernel_4418/3634688526.py:4: RuntimeWarning: invalid value encountered in scalar divide\n",
      "  accuracy = correct_pred/(correct_pred+false_pred)\n"
     ]
    },
    {
     "name": "stdout",
     "output_type": "stream",
     "text": [
      "Test:\n",
      "Acurracy: nan%\n",
      "[[   0    0 6966 4199]\n",
      " [   0    0 2345 1414]\n",
      " [   0    0    0    0]\n",
      " [   0    0    0    0]]\n",
      "\n",
      "\n",
      "\n",
      "Training: Decision Tree\n",
      "Train:\n",
      "Acurracy: 99.96039342530861%\n",
      "[[15148     1]\n",
      " [   11 15138]]\n",
      "\n",
      "Test:\n",
      "Acurracy: nan%\n",
      "[[   0    0 5593 5572]\n",
      " [   0    0 1899 1860]\n",
      " [   0    0    0    0]\n",
      " [   0    0    0    0]]\n",
      "\n",
      "\n",
      "\n",
      "Training: QDA\n",
      "Train:\n",
      "Acurracy: 52.06944352762558%\n",
      "[[6138 9011]\n",
      " [5511 9638]]\n",
      "\n",
      "Test:\n",
      "Acurracy: nan%\n",
      "[[   0    0 3855 7310]\n",
      " [   0    0 1835 1924]\n",
      " [   0    0    0    0]\n",
      " [   0    0    0    0]]\n",
      "\n",
      "\n",
      "\n",
      "New range 4 - 81\n",
      "Training: SVC\n"
     ]
    },
    {
     "name": "stderr",
     "output_type": "stream",
     "text": [
      "/tmp/ipykernel_4418/3634688526.py:4: RuntimeWarning: invalid value encountered in scalar divide\n",
      "  accuracy = correct_pred/(correct_pred+false_pred)\n",
      "/tmp/ipykernel_4418/3634688526.py:4: RuntimeWarning: invalid value encountered in scalar divide\n",
      "  accuracy = correct_pred/(correct_pred+false_pred)\n"
     ]
    },
    {
     "name": "stdout",
     "output_type": "stream",
     "text": [
      "Train:\n",
      "Acurracy: 53.00679912865536%\n",
      "[[8797 6352]\n",
      " [7886 7263]]\n",
      "\n"
     ]
    },
    {
     "name": "stderr",
     "output_type": "stream",
     "text": [
      "/tmp/ipykernel_4418/3634688526.py:4: RuntimeWarning: invalid value encountered in scalar divide\n",
      "  accuracy = correct_pred/(correct_pred+false_pred)\n"
     ]
    },
    {
     "name": "stdout",
     "output_type": "stream",
     "text": [
      "Test:\n",
      "Acurracy: nan%\n",
      "[[   0    0 5881 5284]\n",
      " [   0    0 2355 1404]\n",
      " [   0    0    0    0]\n",
      " [   0    0    0    0]]\n",
      "\n",
      "\n",
      "\n",
      "Training: K-NN\n",
      "Train:\n",
      "Acurracy: 62.278038154333615%\n",
      "[[11262  3887]\n",
      " [ 7542  7607]]\n",
      "\n"
     ]
    },
    {
     "name": "stderr",
     "output_type": "stream",
     "text": [
      "/tmp/ipykernel_4418/3634688526.py:4: RuntimeWarning: invalid value encountered in scalar divide\n",
      "  accuracy = correct_pred/(correct_pred+false_pred)\n"
     ]
    },
    {
     "name": "stdout",
     "output_type": "stream",
     "text": [
      "Test:\n",
      "Acurracy: nan%\n",
      "[[   0    0 6966 4199]\n",
      " [   0    0 2345 1414]\n",
      " [   0    0    0    0]\n",
      " [   0    0    0    0]]\n",
      "\n",
      "\n",
      "\n",
      "Training: Decision Tree\n",
      "Train:\n",
      "Acurracy: 99.96039342530861%\n",
      "[[15148     1]\n",
      " [   11 15138]]\n",
      "\n",
      "Test:\n",
      "Acurracy: nan%\n",
      "[[   0    0 5610 5555]\n",
      " [   0    0 1841 1918]\n",
      " [   0    0    0    0]\n",
      " [   0    0    0    0]]\n",
      "\n",
      "\n",
      "\n",
      "Training: QDA\n",
      "Train:\n",
      "Acurracy: 52.06944352762558%\n",
      "[[6138 9011]\n",
      " [5511 9638]]\n",
      "\n",
      "Test:\n",
      "Acurracy: nan%\n",
      "[[   0    0 3855 7310]\n",
      " [   0    0 1835 1924]\n",
      " [   0    0    0    0]\n",
      " [   0    0    0    0]]\n",
      "\n",
      "\n",
      "\n",
      "New range 7 - 68\n",
      "Training: SVC\n"
     ]
    },
    {
     "name": "stderr",
     "output_type": "stream",
     "text": [
      "/tmp/ipykernel_4418/3634688526.py:4: RuntimeWarning: invalid value encountered in scalar divide\n",
      "  accuracy = correct_pred/(correct_pred+false_pred)\n",
      "/tmp/ipykernel_4418/3634688526.py:4: RuntimeWarning: invalid value encountered in scalar divide\n",
      "  accuracy = correct_pred/(correct_pred+false_pred)\n"
     ]
    },
    {
     "name": "stdout",
     "output_type": "stream",
     "text": [
      "Train:\n",
      "Acurracy: 53.00679912865536%\n",
      "[[8797 6352]\n",
      " [7886 7263]]\n",
      "\n"
     ]
    },
    {
     "name": "stderr",
     "output_type": "stream",
     "text": [
      "/tmp/ipykernel_4418/3634688526.py:4: RuntimeWarning: invalid value encountered in scalar divide\n",
      "  accuracy = correct_pred/(correct_pred+false_pred)\n"
     ]
    },
    {
     "name": "stdout",
     "output_type": "stream",
     "text": [
      "Test:\n",
      "Acurracy: nan%\n",
      "[[   0    0 5881 5284]\n",
      " [   0    0 2355 1404]\n",
      " [   0    0    0    0]\n",
      " [   0    0    0    0]]\n",
      "\n",
      "\n",
      "\n",
      "Training: K-NN\n",
      "Train:\n",
      "Acurracy: 62.278038154333615%\n",
      "[[11262  3887]\n",
      " [ 7542  7607]]\n",
      "\n"
     ]
    },
    {
     "name": "stderr",
     "output_type": "stream",
     "text": [
      "/tmp/ipykernel_4418/3634688526.py:4: RuntimeWarning: invalid value encountered in scalar divide\n",
      "  accuracy = correct_pred/(correct_pred+false_pred)\n"
     ]
    },
    {
     "name": "stdout",
     "output_type": "stream",
     "text": [
      "Test:\n",
      "Acurracy: nan%\n",
      "[[   0    0 6966 4199]\n",
      " [   0    0 2345 1414]\n",
      " [   0    0    0    0]\n",
      " [   0    0    0    0]]\n",
      "\n",
      "\n",
      "\n",
      "Training: Decision Tree\n",
      "Train:\n",
      "Acurracy: 99.96039342530861%\n",
      "[[15148     1]\n",
      " [   11 15138]]\n",
      "\n",
      "Test:\n",
      "Acurracy: nan%\n",
      "[[   0    0 5577 5588]\n",
      " [   0    0 1892 1867]\n",
      " [   0    0    0    0]\n",
      " [   0    0    0    0]]\n",
      "\n",
      "\n",
      "\n",
      "Training: QDA\n",
      "Train:\n",
      "Acurracy: 52.06944352762558%\n",
      "[[6138 9011]\n",
      " [5511 9638]]\n",
      "\n",
      "Test:\n",
      "Acurracy: nan%\n",
      "[[   0    0 3855 7310]\n",
      " [   0    0 1835 1924]\n",
      " [   0    0    0    0]\n",
      " [   0    0    0    0]]\n",
      "\n",
      "\n",
      "\n",
      "New range 3 - 11\n",
      "Training: SVC\n"
     ]
    },
    {
     "name": "stderr",
     "output_type": "stream",
     "text": [
      "/tmp/ipykernel_4418/3634688526.py:4: RuntimeWarning: invalid value encountered in scalar divide\n",
      "  accuracy = correct_pred/(correct_pred+false_pred)\n",
      "/tmp/ipykernel_4418/3634688526.py:4: RuntimeWarning: invalid value encountered in scalar divide\n",
      "  accuracy = correct_pred/(correct_pred+false_pred)\n"
     ]
    },
    {
     "name": "stdout",
     "output_type": "stream",
     "text": [
      "Train:\n",
      "Acurracy: 53.00679912865536%\n",
      "[[8797 6352]\n",
      " [7886 7263]]\n",
      "\n"
     ]
    },
    {
     "name": "stderr",
     "output_type": "stream",
     "text": [
      "/tmp/ipykernel_4418/3634688526.py:4: RuntimeWarning: invalid value encountered in scalar divide\n",
      "  accuracy = correct_pred/(correct_pred+false_pred)\n"
     ]
    },
    {
     "name": "stdout",
     "output_type": "stream",
     "text": [
      "Test:\n",
      "Acurracy: nan%\n",
      "[[   0    0 5881 5284]\n",
      " [   0    0 2355 1404]\n",
      " [   0    0    0    0]\n",
      " [   0    0    0    0]]\n",
      "\n",
      "\n",
      "\n",
      "Training: K-NN\n",
      "Train:\n",
      "Acurracy: 62.278038154333615%\n",
      "[[11262  3887]\n",
      " [ 7542  7607]]\n",
      "\n"
     ]
    },
    {
     "name": "stderr",
     "output_type": "stream",
     "text": [
      "/tmp/ipykernel_4418/3634688526.py:4: RuntimeWarning: invalid value encountered in scalar divide\n",
      "  accuracy = correct_pred/(correct_pred+false_pred)\n"
     ]
    },
    {
     "name": "stdout",
     "output_type": "stream",
     "text": [
      "Test:\n",
      "Acurracy: nan%\n",
      "[[   0    0 6966 4199]\n",
      " [   0    0 2345 1414]\n",
      " [   0    0    0    0]\n",
      " [   0    0    0    0]]\n",
      "\n",
      "\n",
      "\n",
      "Training: Decision Tree\n",
      "Train:\n",
      "Acurracy: 99.96039342530861%\n",
      "[[15148     1]\n",
      " [   11 15138]]\n",
      "\n",
      "Test:\n",
      "Acurracy: nan%\n",
      "[[   0    0 5644 5521]\n",
      " [   0    0 1876 1883]\n",
      " [   0    0    0    0]\n",
      " [   0    0    0    0]]\n",
      "\n",
      "\n",
      "\n",
      "Training: QDA\n",
      "Train:\n",
      "Acurracy: 52.06944352762558%\n",
      "[[6138 9011]\n",
      " [5511 9638]]\n",
      "\n",
      "Test:\n",
      "Acurracy: nan%\n",
      "[[   0    0 3855 7310]\n",
      " [   0    0 1835 1924]\n",
      " [   0    0    0    0]\n",
      " [   0    0    0    0]]\n",
      "\n",
      "\n",
      "\n"
     ]
    },
    {
     "name": "stderr",
     "output_type": "stream",
     "text": [
      "/tmp/ipykernel_4418/3634688526.py:4: RuntimeWarning: invalid value encountered in scalar divide\n",
      "  accuracy = correct_pred/(correct_pred+false_pred)\n",
      "/tmp/ipykernel_4418/3634688526.py:4: RuntimeWarning: invalid value encountered in scalar divide\n",
      "  accuracy = correct_pred/(correct_pred+false_pred)\n"
     ]
    }
   ],
   "source": [
    "\n",
    "print( f\"\\n\\nTraining on FLIPPED datasets\" )\n",
    "print( f\"--------------------------------------\" )\n",
    "for fraction in range( 1, 7, 2 ):\n",
    "    print( f\"Fraction: {fraction/10}\" )\n",
    "    error_train = DataSet( train.X, add_errors( train.y, fraction=fraction/10 ) )\n",
    "    train_eval( error_train, test, classifiers )\n",
    "\n",
    "print( f\"\\n\\nTraining on PERTURBED datasets\" )\n",
    "print( f\"--------------------------------------\" )\n",
    "for _ in range( 5 ):\n",
    "    error_train = DataSet( train.X, perturb( train.y ) )\n",
    "    train_eval( error_train, test, classifiers )\n"
   ]
  },
  {
   "cell_type": "markdown",
   "metadata": {},
   "source": [
    "#### Analysis\n",
    "Create a number of new datasets with perturbed labels, for fractions ranging from `0` to `0.5` in increments of `0.1`.\n",
    "\n",
    "Perform the same experiment you did before, which compared the performances of different models except with the new datasets. Repeat your experiment at least 5x for each model and perturbation level and calculate the mean and variance of the scores. Visualize the change in score for different perturbation levels for all of the models in a single plot. \n",
    "\n",
    "State your observations. Is there a change in the performance of the models? Are there some classifiers which are impacted more/less than other classifiers and why is this the case?"
   ]
  },
  {
   "cell_type": "code",
   "execution_count": null,
   "metadata": {},
   "outputs": [],
   "source": [
    "# Code"
   ]
  },
  {
   "cell_type": "markdown",
   "metadata": {},
   "source": [
    "Observations + explanations: max. 400 words"
   ]
  },
  {
   "cell_type": "markdown",
   "metadata": {},
   "source": [
    "#### Discussion\n",
    "\n",
    "1)  Discuss how you could reduce the impact of wrongly labeled data or correct wrong labels. <br />\n",
    "    max. 400 words\n",
    "\n",
    "\n",
    "\n",
    "    Authors: Youri Arkesteijn, Tim van der Horst and Kevin Chong.\n"
   ]
  },
  {
   "cell_type": "markdown",
   "metadata": {},
   "source": [
    "## Machine Learning Workflow\n",
    "\n",
    "From part 1, you will have gone through the entire machine learning workflow which are they following steps:\n",
    "\n",
    "1) Data Loading\n",
    "2) Data Pre-processing\n",
    "3) Machine Learning Model Training\n",
    "4) Machine Learning Model Testing\n",
    "\n",
    "You can see these tasks are very sequential, and need to be done in a serial fashion. \n",
    "\n",
    "As a small perturbation in the actions performed in each of the steps may have a detrimental knock-on effect in the task that comes afterwards.\n",
    "\n",
    "In the final part of Part 1, you will have experienced the effects of performing perturbations to the machine learning model training aspect and the reaction of the machine learning model testing section."
   ]
  },
  {
   "cell_type": "markdown",
   "metadata": {},
   "source": [
    "## Part 2 Data Discovery\n",
    "\n",
    "You will be given a set of datasets and you are tasked to perform data discovery on the data sets.\n",
    "\n",
    "<b>The datasets are provided in the group lockers on brightspace. Let me know if you are having trouble accessing the datasets</b>\n",
    "\n",
    "The process is to have the goal of finding datasets that are related to each other, finding relationships between the datasets.\n",
    "\n",
    "The relationships that we are primarily working with are Join and Union relationships.\n",
    "\n",
    "So please implement two methods for allowing us to find those pesky Join and Union relationships.\n",
    "\n",
    "Try to do this with the datasets as is and no processing.\n",
    "\n"
   ]
  },
  {
   "cell_type": "code",
   "execution_count": null,
   "metadata": {},
   "outputs": [],
   "source": [
    "def discovery_algorithm():\n",
    "    \"\"\"Function should be able to perform data discovery to find related datasets\n",
    "    Possible Input: List of datasets\n",
    "    Output: List of pairs of related datasets\n",
    "    \"\"\"\n",
    "\n",
    "    pass"
   ]
  },
  {
   "cell_type": "code",
   "execution_count": null,
   "metadata": {},
   "outputs": [],
   "source": []
  },
  {
   "cell_type": "markdown",
   "metadata": {},
   "source": [
    "You would have noticed that the data has some issues in them.\n",
    "So perhaps those issues have been troublesome to deal with.\n",
    "\n",
    "Please try to do some cleaning on the data.\n",
    "\n",
    "After performing cleaning see if the results of the data discovery has changed?\n",
    "\n",
    "Please try to explain this in your report, and try to match up the error with the observation."
   ]
  },
  {
   "cell_type": "code",
   "execution_count": null,
   "metadata": {},
   "outputs": [],
   "source": [
    "## Cleaning data, scrubbing, washing, mopping\n",
    "\n",
    "def cleaningData(data):\n",
    "    \"\"\"Function should be able to clean the data\n",
    "    Possible Input: List of datasets\n",
    "    Output: List of cleaned datasets\n",
    "    \"\"\"\n",
    "\n",
    "    pass"
   ]
  },
  {
   "cell_type": "markdown",
   "metadata": {},
   "source": [
    "## Discussions\n",
    "\n",
    "1)  Different aspects of the data can effect the data discovery process. Write a short report on your findings. Such as which data quality issues had the largest effect on data discovery. Which data quality problem was repairable and how you choose to do the repair.\n",
    "\n",
    "<!-- For the set of considerations that you have outlined for the choice of data discovery methods, choose one and identify under this new constraint, how would you identify and resolve this problem? -->\n",
    "\n",
    "Max 400 words"
   ]
  }
 ],
 "metadata": {
  "kernelspec": {
   "display_name": "Python 3 (ipykernel)",
   "language": "python",
   "name": "python3"
  },
  "language_info": {
   "codemirror_mode": {
    "name": "ipython",
    "version": 3
   },
   "file_extension": ".py",
   "mimetype": "text/x-python",
   "name": "python",
   "nbconvert_exporter": "python",
   "pygments_lexer": "ipython3",
   "version": "3.13.7"
  }
 },
 "nbformat": 4,
 "nbformat_minor": 4
}
